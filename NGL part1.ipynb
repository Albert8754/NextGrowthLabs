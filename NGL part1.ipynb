{
 "cells": [
  {
   "cell_type": "code",
   "execution_count": 1,
   "id": "963302b6",
   "metadata": {},
   "outputs": [],
   "source": [
    "#importing regular expression\n",
    "import re\n",
    "regex = r\"(?<=\\:)[\\d]+\""
   ]
  },
  {
   "cell_type": "code",
   "execution_count": 3,
   "id": "ccb0425c",
   "metadata": {},
   "outputs": [],
   "source": [
    "#importing test string\n",
    "test_str = \"{\\\"orders\\\":[{\\\"id\\\":1},{\\\"id\\\":2},{\\\"id\\\":3},{\\\"id\\\":4},{\\\"id\\\":5},{\\\"id\\\":6},{\\\"id\\\":7},{\\\"id\\\":8},{\\\"id\\\":9},{\\\"id\\\":10},{\\\"id\\\":11},{\\\"id\\\":648},{\\\"id\\\":649},{\\\"id\\\":650},{\\\"id\\\":651},{\\\"id\\\":652},{\\\"id\\\":653}],\\\"errors\\\":[{\\\"code\\\":3,\\\"message\\\":\\\"[PHP Warning #2] count(): Parameter must be an array or an object that implements Countable (153)\\\"}]}\""
   ]
  },
  {
   "cell_type": "code",
   "execution_count": 10,
   "id": "b2bffa9c",
   "metadata": {},
   "outputs": [
    {
     "name": "stdout",
     "output_type": "stream",
     "text": [
      "Match1 was found at 17-18:1\n",
      "Match2 was found at 26-27:2\n",
      "Match3 was found at 35-36:3\n",
      "Match4 was found at 44-45:4\n",
      "Match5 was found at 53-54:5\n",
      "Match6 was found at 62-63:6\n",
      "Match7 was found at 71-72:7\n",
      "Match8 was found at 80-81:8\n",
      "Match9 was found at 89-90:9\n",
      "Match10 was found at 98-100:10\n",
      "Match11 was found at 108-110:11\n",
      "Match12 was found at 118-121:648\n",
      "Match13 was found at 129-132:649\n",
      "Match14 was found at 140-143:650\n",
      "Match15 was found at 151-154:651\n",
      "Match16 was found at 162-165:652\n",
      "Match17 was found at 173-176:653\n",
      "Match18 was found at 197-198:3\n"
     ]
    }
   ],
   "source": [
    "matches =re.finditer(regex,test_str,re.MULTILINE)\n",
    "for matchNum,match in enumerate(matches,start=1):\n",
    "    print(\"Match{matchNum} was found at {start}-{end}:{match}\".format(matchNum =matchNum,start=match.start(),end=\n",
    "         match.end(),match=match.group()))\n",
    "    for groupnum in range(0,len(match.groups())):\n",
    "        groupnum=groupnum+1\n",
    "        print(\"group{groupnum}found at{start}-{end}:{group}\".format(groupnum =groupnum,start=match.start(groupnum), end = match.end(groupnum), group = match.group(groupnum)))"
   ]
  }
 ],
 "metadata": {
  "kernelspec": {
   "display_name": "Python 3",
   "language": "python",
   "name": "python3"
  },
  "language_info": {
   "codemirror_mode": {
    "name": "ipython",
    "version": 3
   },
   "file_extension": ".py",
   "mimetype": "text/x-python",
   "name": "python",
   "nbconvert_exporter": "python",
   "pygments_lexer": "ipython3",
   "version": "3.8.8"
  }
 },
 "nbformat": 4,
 "nbformat_minor": 5
}
