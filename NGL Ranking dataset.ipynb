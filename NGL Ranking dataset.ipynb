{
 "cells": [
  {
   "cell_type": "code",
   "execution_count": 1,
   "id": "c8a2dda5",
   "metadata": {},
   "outputs": [],
   "source": [
    "#importing required libraries\n",
    "import pandas as pd \n",
    "import numpy as np\n",
    "import matplotlib.pyplot as plt \n",
    "import seaborn as sns\n",
    "import scipy.stats as stats"
   ]
  },
  {
   "cell_type": "code",
   "execution_count": 2,
   "id": "a1edf890",
   "metadata": {},
   "outputs": [],
   "source": [
    "#importing dataset\n",
    "df=pd.read_csv(r\"C:\\Users\\HP\\Downloads\\browser_rankings_data.csv\")"
   ]
  },
  {
   "cell_type": "code",
   "execution_count": 3,
   "id": "59601b6b",
   "metadata": {
    "scrolled": false
   },
   "outputs": [
    {
     "data": {
      "text/html": [
       "<div>\n",
       "<style scoped>\n",
       "    .dataframe tbody tr th:only-of-type {\n",
       "        vertical-align: middle;\n",
       "    }\n",
       "\n",
       "    .dataframe tbody tr th {\n",
       "        vertical-align: top;\n",
       "    }\n",
       "\n",
       "    .dataframe thead th {\n",
       "        text-align: right;\n",
       "    }\n",
       "</style>\n",
       "<table border=\"1\" class=\"dataframe\">\n",
       "  <thead>\n",
       "    <tr style=\"text-align: right;\">\n",
       "      <th></th>\n",
       "      <th>ID</th>\n",
       "      <th>Keyword</th>\n",
       "      <th>Rank</th>\n",
       "      <th>Country</th>\n",
       "      <th>Language</th>\n",
       "      <th>Date</th>\n",
       "      <th>App ID</th>\n",
       "      <th>Date of Last Description Change</th>\n",
       "      <th>Short Description</th>\n",
       "      <th>Long Description</th>\n",
       "    </tr>\n",
       "  </thead>\n",
       "  <tbody>\n",
       "    <tr>\n",
       "      <th>0</th>\n",
       "      <td>1</td>\n",
       "      <td>browser</td>\n",
       "      <td>2.0</td>\n",
       "      <td>in</td>\n",
       "      <td>en</td>\n",
       "      <td>16-12-2020</td>\n",
       "      <td>net.fast.web.browser</td>\n",
       "      <td>18-12-2020</td>\n",
       "      <td>The small, fastest, secure Web Browser, best m...</td>\n",
       "      <td>One of the smallest, fastest, secure Web Brows...</td>\n",
       "    </tr>\n",
       "    <tr>\n",
       "      <th>1</th>\n",
       "      <td>2</td>\n",
       "      <td>browser</td>\n",
       "      <td>3.0</td>\n",
       "      <td>in</td>\n",
       "      <td>en</td>\n",
       "      <td>16-12-2020</td>\n",
       "      <td>com.android.chrome</td>\n",
       "      <td>18-12-2020</td>\n",
       "      <td>Fast, simple, and secure. Google Chrome browse...</td>\n",
       "      <td>Google Chrome is a fast, easy to use, and secu...</td>\n",
       "    </tr>\n",
       "    <tr>\n",
       "      <th>2</th>\n",
       "      <td>3</td>\n",
       "      <td>browser</td>\n",
       "      <td>4.0</td>\n",
       "      <td>in</td>\n",
       "      <td>en</td>\n",
       "      <td>16-12-2020</td>\n",
       "      <td>com.opera.browser</td>\n",
       "      <td>27-02-2021</td>\n",
       "      <td>Fast, safe web browser: free VPN, Ad blocker, ...</td>\n",
       "      <td>Fast, safe and private, introducing the latest...</td>\n",
       "    </tr>\n",
       "    <tr>\n",
       "      <th>3</th>\n",
       "      <td>3</td>\n",
       "      <td>browser</td>\n",
       "      <td>4.0</td>\n",
       "      <td>in</td>\n",
       "      <td>en</td>\n",
       "      <td>16-12-2020</td>\n",
       "      <td>com.opera.browser</td>\n",
       "      <td>18-12-2020</td>\n",
       "      <td>Fast, safe web browser: free VPN, Ad blocker, ...</td>\n",
       "      <td>Opera is a fast, safe web browser for your And...</td>\n",
       "    </tr>\n",
       "    <tr>\n",
       "      <th>4</th>\n",
       "      <td>4</td>\n",
       "      <td>browser</td>\n",
       "      <td>1.0</td>\n",
       "      <td>in</td>\n",
       "      <td>en</td>\n",
       "      <td>16-12-2020</td>\n",
       "      <td>com.cloudmosa.puffinTV</td>\n",
       "      <td>07-02-2021</td>\n",
       "      <td>Puffin TV Browser - One App to Watch All Video...</td>\n",
       "      <td>Puffin TV Browser is a special edition of Puff...</td>\n",
       "    </tr>\n",
       "  </tbody>\n",
       "</table>\n",
       "</div>"
      ],
      "text/plain": [
       "   ID  Keyword  Rank Country Language        Date                  App ID  \\\n",
       "0   1  browser   2.0      in       en  16-12-2020    net.fast.web.browser   \n",
       "1   2  browser   3.0      in       en  16-12-2020      com.android.chrome   \n",
       "2   3  browser   4.0      in       en  16-12-2020       com.opera.browser   \n",
       "3   3  browser   4.0      in       en  16-12-2020       com.opera.browser   \n",
       "4   4  browser   1.0      in       en  16-12-2020  com.cloudmosa.puffinTV   \n",
       "\n",
       "  Date of Last Description Change  \\\n",
       "0                      18-12-2020   \n",
       "1                      18-12-2020   \n",
       "2                      27-02-2021   \n",
       "3                      18-12-2020   \n",
       "4                      07-02-2021   \n",
       "\n",
       "                                   Short Description  \\\n",
       "0  The small, fastest, secure Web Browser, best m...   \n",
       "1  Fast, simple, and secure. Google Chrome browse...   \n",
       "2  Fast, safe web browser: free VPN, Ad blocker, ...   \n",
       "3  Fast, safe web browser: free VPN, Ad blocker, ...   \n",
       "4  Puffin TV Browser - One App to Watch All Video...   \n",
       "\n",
       "                                    Long Description  \n",
       "0  One of the smallest, fastest, secure Web Brows...  \n",
       "1  Google Chrome is a fast, easy to use, and secu...  \n",
       "2  Fast, safe and private, introducing the latest...  \n",
       "3  Opera is a fast, safe web browser for your And...  \n",
       "4  Puffin TV Browser is a special edition of Puff...  "
      ]
     },
     "execution_count": 3,
     "metadata": {},
     "output_type": "execute_result"
    }
   ],
   "source": [
    "#first let us check whether the dataset is printed correctly\n",
    "df.head()"
   ]
  },
  {
   "cell_type": "code",
   "execution_count": 4,
   "id": "5b1e274c",
   "metadata": {},
   "outputs": [],
   "source": [
    "#our dataset is correctly printed"
   ]
  },
  {
   "cell_type": "code",
   "execution_count": 5,
   "id": "7269a1b4",
   "metadata": {},
   "outputs": [
    {
     "data": {
      "text/plain": [
       "(3066, 10)"
      ]
     },
     "execution_count": 5,
     "metadata": {},
     "output_type": "execute_result"
    }
   ],
   "source": [
    "#let us find out how many rows and columns in the datset\n",
    "df.shape"
   ]
  },
  {
   "cell_type": "code",
   "execution_count": 6,
   "id": "07c9882f",
   "metadata": {},
   "outputs": [
    {
     "name": "stdout",
     "output_type": "stream",
     "text": [
      "<class 'pandas.core.frame.DataFrame'>\n",
      "RangeIndex: 3066 entries, 0 to 3065\n",
      "Data columns (total 10 columns):\n",
      " #   Column                           Non-Null Count  Dtype  \n",
      "---  ------                           --------------  -----  \n",
      " 0   ID                               3066 non-null   int64  \n",
      " 1   Keyword                          3066 non-null   object \n",
      " 2   Rank                             3050 non-null   float64\n",
      " 3   Country                          3066 non-null   object \n",
      " 4   Language                         3066 non-null   object \n",
      " 5   Date                             3066 non-null   object \n",
      " 6   App ID                           3066 non-null   object \n",
      " 7   Date of Last Description Change  3066 non-null   object \n",
      " 8   Short Description                3066 non-null   object \n",
      " 9   Long Description                 3066 non-null   object \n",
      "dtypes: float64(1), int64(1), object(8)\n",
      "memory usage: 239.7+ KB\n"
     ]
    }
   ],
   "source": [
    "df.info()"
   ]
  },
  {
   "cell_type": "code",
   "execution_count": 7,
   "id": "4796f6d9",
   "metadata": {},
   "outputs": [],
   "source": [
    "#so we found that our dataset do not have any null values"
   ]
  },
  {
   "cell_type": "markdown",
   "id": "1c00f03c",
   "metadata": {},
   "source": [
    "# Is there any co-relation between short description, long description and ranking? Does the placement of keyword (for example - using a keyword in the first 10 words - have any co-relation with the ranking)?"
   ]
  },
  {
   "cell_type": "code",
   "execution_count": 8,
   "id": "3e128e6b",
   "metadata": {},
   "outputs": [
    {
     "data": {
      "text/plain": [
       "Index(['ID', 'Keyword', 'Rank', 'Country', 'Language', 'Date', 'App ID',\n",
       "       'Date of Last Description Change', 'Short Description',\n",
       "       'Long Description'],\n",
       "      dtype='object')"
      ]
     },
     "execution_count": 8,
     "metadata": {},
     "output_type": "execute_result"
    }
   ],
   "source": [
    "df.columns"
   ]
  },
  {
   "cell_type": "code",
   "execution_count": 9,
   "id": "5065f88e",
   "metadata": {},
   "outputs": [
    {
     "data": {
      "text/plain": [
       "<AxesSubplot:>"
      ]
     },
     "execution_count": 9,
     "metadata": {},
     "output_type": "execute_result"
    },
    {
     "data": {
      "image/png": "[encoded data removed]",
      "text/plain": [
       "<Figure size 1440x720 with 2 Axes>"
      ]
     },
     "metadata": {
      "needs_background": "light"
     },
     "output_type": "display_data"
    }
   ],
   "source": [
    "corrmatrix =df.corr()\n",
    "plt.subplots(figsize=(20,10))\n",
    "sns.heatmap(corrmatrix,vmin=.97,vmax=1,annot=True,linewidth=.2,cmap='YlGnBu')"
   ]
  },
  {
   "cell_type": "markdown",
   "id": "e6d386a5",
   "metadata": {},
   "source": [
    "# we have sucessfully ploted corelation matrix but find out that we need to perform chisquare teat because they are all categorical varibles"
   ]
  },
  {
   "cell_type": "markdown",
   "id": "c4e944dc",
   "metadata": {},
   "source": [
    "# first let us find out correlation b/w Short Description and long Description and set p value as .05\n",
    "# Here null hypothesis: there is no correlation between Short Description and long Description\n",
    "# Alternative Hypothesis: there is correlation between the features "
   ]
  },
  {
   "cell_type": "code",
   "execution_count": 10,
   "id": "f08ba4a9",
   "metadata": {},
   "outputs": [
    {
     "name": "stdout",
     "output_type": "stream",
     "text": [
      "chisquare value:24527.999999999996\n",
      "p value:0.0\n"
     ]
    }
   ],
   "source": [
    "ct = pd.crosstab(df['Short Description'], df['Long Description'])\n",
    "stat,p,dof,expected=stats.chi2_contingency(ct)\n",
    "print(f'chisquare value:{stat}')\n",
    "print(f'p value:{p}')"
   ]
  },
  {
   "cell_type": "markdown",
   "id": "40bde79b",
   "metadata": {},
   "source": [
    "so both features are Highly co related"
   ]
  },
  {
   "cell_type": "markdown",
   "id": "65cbb6d5",
   "metadata": {},
   "source": [
    "now let us check whethere ranking is colelated or not"
   ]
  },
  {
   "cell_type": "code",
   "execution_count": 11,
   "id": "6c9b6c6a",
   "metadata": {},
   "outputs": [
    {
     "name": "stdout",
     "output_type": "stream",
     "text": [
      "chisquare value:6067.446466498302\n",
      "p value:0.0\n"
     ]
    }
   ],
   "source": [
    "ct = pd.crosstab(df['Short Description'], df['Rank'])\n",
    "stat,p,dof,expected=stats.chi2_contingency(ct)\n",
    "print(f'chisquare value:{stat}')\n",
    "print(f'p value:{p}')"
   ]
  },
  {
   "cell_type": "markdown",
   "id": "8e7dbd79",
   "metadata": {},
   "source": [
    "# so there are co-relation between short description, long description and ranking"
   ]
  },
  {
   "cell_type": "code",
   "execution_count": 12,
   "id": "f0e88dea",
   "metadata": {},
   "outputs": [],
   "source": [
    "#Now let us check whether keyword has corelation with ranking\n",
    "#set p value as .05\n",
    "#Here null hypothesis: there is no correlation between keyword and Rank\n",
    "#Alternative Hypothesis: there is correlation between the features"
   ]
  },
  {
   "cell_type": "code",
   "execution_count": 13,
   "id": "6ce01982",
   "metadata": {},
   "outputs": [
    {
     "name": "stdout",
     "output_type": "stream",
     "text": [
      "chisquare value:3290.616855972886\n",
      "p value:0.0\n"
     ]
    }
   ],
   "source": [
    "ct = pd.crosstab(df['Keyword'], df['Rank'])\n",
    "stat,p,dof,expected=stats.chi2_contingency(ct)\n",
    "print(f'chisquare value:{stat}')\n",
    "print(f'p value:{p}')"
   ]
  },
  {
   "cell_type": "markdown",
   "id": "28d3cf61",
   "metadata": {},
   "source": [
    "therefore keyword and ranking are highly corelated"
   ]
  },
  {
   "cell_type": "markdown",
   "id": "e0e91316",
   "metadata": {},
   "source": [
    "# Does APP ID (Also known as package name) play any role in ranking? "
   ]
  },
  {
   "cell_type": "code",
   "execution_count": 16,
   "id": "e06ed172",
   "metadata": {},
   "outputs": [
    {
     "data": {
      "text/html": [
       "<div>\n",
       "<style scoped>\n",
       "    .dataframe tbody tr th:only-of-type {\n",
       "        vertical-align: middle;\n",
       "    }\n",
       "\n",
       "    .dataframe tbody tr th {\n",
       "        vertical-align: top;\n",
       "    }\n",
       "\n",
       "    .dataframe thead th {\n",
       "        text-align: right;\n",
       "    }\n",
       "</style>\n",
       "<table border=\"1\" class=\"dataframe\">\n",
       "  <thead>\n",
       "    <tr style=\"text-align: right;\">\n",
       "      <th>Rank</th>\n",
       "      <th>1.0</th>\n",
       "      <th>2.0</th>\n",
       "      <th>3.0</th>\n",
       "      <th>4.0</th>\n",
       "      <th>5.0</th>\n",
       "      <th>6.0</th>\n",
       "      <th>7.0</th>\n",
       "      <th>8.0</th>\n",
       "      <th>9.0</th>\n",
       "      <th>10.0</th>\n",
       "      <th>...</th>\n",
       "      <th>111.0</th>\n",
       "      <th>112.0</th>\n",
       "      <th>113.0</th>\n",
       "      <th>114.0</th>\n",
       "      <th>115.0</th>\n",
       "      <th>116.0</th>\n",
       "      <th>117.0</th>\n",
       "      <th>118.0</th>\n",
       "      <th>119.0</th>\n",
       "      <th>134.0</th>\n",
       "    </tr>\n",
       "    <tr>\n",
       "      <th>App ID</th>\n",
       "      <th></th>\n",
       "      <th></th>\n",
       "      <th></th>\n",
       "      <th></th>\n",
       "      <th></th>\n",
       "      <th></th>\n",
       "      <th></th>\n",
       "      <th></th>\n",
       "      <th></th>\n",
       "      <th></th>\n",
       "      <th></th>\n",
       "      <th></th>\n",
       "      <th></th>\n",
       "      <th></th>\n",
       "      <th></th>\n",
       "      <th></th>\n",
       "      <th></th>\n",
       "      <th></th>\n",
       "      <th></th>\n",
       "      <th></th>\n",
       "      <th></th>\n",
       "    </tr>\n",
       "  </thead>\n",
       "  <tbody>\n",
       "    <tr>\n",
       "      <th>com.android.chrome</th>\n",
       "      <td>18</td>\n",
       "      <td>6</td>\n",
       "      <td>7</td>\n",
       "      <td>6</td>\n",
       "      <td>1</td>\n",
       "      <td>5</td>\n",
       "      <td>4</td>\n",
       "      <td>11</td>\n",
       "      <td>1</td>\n",
       "      <td>8</td>\n",
       "      <td>...</td>\n",
       "      <td>0</td>\n",
       "      <td>0</td>\n",
       "      <td>0</td>\n",
       "      <td>0</td>\n",
       "      <td>0</td>\n",
       "      <td>0</td>\n",
       "      <td>0</td>\n",
       "      <td>0</td>\n",
       "      <td>0</td>\n",
       "      <td>0</td>\n",
       "    </tr>\n",
       "    <tr>\n",
       "      <th>com.brave.browser</th>\n",
       "      <td>5</td>\n",
       "      <td>201</td>\n",
       "      <td>57</td>\n",
       "      <td>39</td>\n",
       "      <td>20</td>\n",
       "      <td>23</td>\n",
       "      <td>9</td>\n",
       "      <td>10</td>\n",
       "      <td>2</td>\n",
       "      <td>2</td>\n",
       "      <td>...</td>\n",
       "      <td>0</td>\n",
       "      <td>0</td>\n",
       "      <td>0</td>\n",
       "      <td>0</td>\n",
       "      <td>0</td>\n",
       "      <td>0</td>\n",
       "      <td>0</td>\n",
       "      <td>0</td>\n",
       "      <td>0</td>\n",
       "      <td>0</td>\n",
       "    </tr>\n",
       "    <tr>\n",
       "      <th>com.cloudmosa.puffinTV</th>\n",
       "      <td>72</td>\n",
       "      <td>212</td>\n",
       "      <td>80</td>\n",
       "      <td>76</td>\n",
       "      <td>32</td>\n",
       "      <td>36</td>\n",
       "      <td>40</td>\n",
       "      <td>8</td>\n",
       "      <td>16</td>\n",
       "      <td>12</td>\n",
       "      <td>...</td>\n",
       "      <td>0</td>\n",
       "      <td>0</td>\n",
       "      <td>0</td>\n",
       "      <td>0</td>\n",
       "      <td>0</td>\n",
       "      <td>0</td>\n",
       "      <td>0</td>\n",
       "      <td>0</td>\n",
       "      <td>0</td>\n",
       "      <td>0</td>\n",
       "    </tr>\n",
       "    <tr>\n",
       "      <th>com.duckduckgo.mobile.android</th>\n",
       "      <td>428</td>\n",
       "      <td>12</td>\n",
       "      <td>0</td>\n",
       "      <td>0</td>\n",
       "      <td>12</td>\n",
       "      <td>104</td>\n",
       "      <td>24</td>\n",
       "      <td>10</td>\n",
       "      <td>2</td>\n",
       "      <td>0</td>\n",
       "      <td>...</td>\n",
       "      <td>0</td>\n",
       "      <td>0</td>\n",
       "      <td>0</td>\n",
       "      <td>0</td>\n",
       "      <td>0</td>\n",
       "      <td>0</td>\n",
       "      <td>0</td>\n",
       "      <td>0</td>\n",
       "      <td>0</td>\n",
       "      <td>0</td>\n",
       "    </tr>\n",
       "    <tr>\n",
       "      <th>com.opera.browser</th>\n",
       "      <td>8</td>\n",
       "      <td>38</td>\n",
       "      <td>62</td>\n",
       "      <td>44</td>\n",
       "      <td>50</td>\n",
       "      <td>34</td>\n",
       "      <td>26</td>\n",
       "      <td>16</td>\n",
       "      <td>12</td>\n",
       "      <td>10</td>\n",
       "      <td>...</td>\n",
       "      <td>0</td>\n",
       "      <td>0</td>\n",
       "      <td>0</td>\n",
       "      <td>0</td>\n",
       "      <td>0</td>\n",
       "      <td>0</td>\n",
       "      <td>0</td>\n",
       "      <td>0</td>\n",
       "      <td>0</td>\n",
       "      <td>0</td>\n",
       "    </tr>\n",
       "    <tr>\n",
       "      <th>com.transsion.phoenix</th>\n",
       "      <td>0</td>\n",
       "      <td>0</td>\n",
       "      <td>0</td>\n",
       "      <td>0</td>\n",
       "      <td>0</td>\n",
       "      <td>6</td>\n",
       "      <td>11</td>\n",
       "      <td>15</td>\n",
       "      <td>15</td>\n",
       "      <td>20</td>\n",
       "      <td>...</td>\n",
       "      <td>1</td>\n",
       "      <td>0</td>\n",
       "      <td>1</td>\n",
       "      <td>0</td>\n",
       "      <td>0</td>\n",
       "      <td>0</td>\n",
       "      <td>1</td>\n",
       "      <td>0</td>\n",
       "      <td>1</td>\n",
       "      <td>0</td>\n",
       "    </tr>\n",
       "    <tr>\n",
       "      <th>com.vivaldi.browser</th>\n",
       "      <td>0</td>\n",
       "      <td>0</td>\n",
       "      <td>0</td>\n",
       "      <td>0</td>\n",
       "      <td>0</td>\n",
       "      <td>0</td>\n",
       "      <td>0</td>\n",
       "      <td>0</td>\n",
       "      <td>0</td>\n",
       "      <td>0</td>\n",
       "      <td>...</td>\n",
       "      <td>0</td>\n",
       "      <td>1</td>\n",
       "      <td>0</td>\n",
       "      <td>1</td>\n",
       "      <td>2</td>\n",
       "      <td>2</td>\n",
       "      <td>1</td>\n",
       "      <td>2</td>\n",
       "      <td>0</td>\n",
       "      <td>1</td>\n",
       "    </tr>\n",
       "    <tr>\n",
       "      <th>net.fast.web.browser</th>\n",
       "      <td>31</td>\n",
       "      <td>21</td>\n",
       "      <td>8</td>\n",
       "      <td>5</td>\n",
       "      <td>10</td>\n",
       "      <td>5</td>\n",
       "      <td>8</td>\n",
       "      <td>12</td>\n",
       "      <td>8</td>\n",
       "      <td>8</td>\n",
       "      <td>...</td>\n",
       "      <td>0</td>\n",
       "      <td>0</td>\n",
       "      <td>0</td>\n",
       "      <td>0</td>\n",
       "      <td>0</td>\n",
       "      <td>0</td>\n",
       "      <td>0</td>\n",
       "      <td>0</td>\n",
       "      <td>0</td>\n",
       "      <td>0</td>\n",
       "    </tr>\n",
       "  </tbody>\n",
       "</table>\n",
       "<p>8 rows × 119 columns</p>\n",
       "</div>"
      ],
      "text/plain": [
       "Rank                           1.0    2.0    3.0    4.0    5.0    6.0    \\\n",
       "App ID                                                                    \n",
       "com.android.chrome                18      6      7      6      1      5   \n",
       "com.brave.browser                  5    201     57     39     20     23   \n",
       "com.cloudmosa.puffinTV            72    212     80     76     32     36   \n",
       "com.duckduckgo.mobile.android    428     12      0      0     12    104   \n",
       "com.opera.browser                  8     38     62     44     50     34   \n",
       "com.transsion.phoenix              0      0      0      0      0      6   \n",
       "com.vivaldi.browser                0      0      0      0      0      0   \n",
       "net.fast.web.browser              31     21      8      5     10      5   \n",
       "\n",
       "Rank                           7.0    8.0    9.0    10.0   ...  111.0  112.0  \\\n",
       "App ID                                                     ...                 \n",
       "com.android.chrome                 4     11      1      8  ...      0      0   \n",
       "com.brave.browser                  9     10      2      2  ...      0      0   \n",
       "com.cloudmosa.puffinTV            40      8     16     12  ...      0      0   \n",
       "com.duckduckgo.mobile.android     24     10      2      0  ...      0      0   \n",
       "com.opera.browser                 26     16     12     10  ...      0      0   \n",
       "com.transsion.phoenix             11     15     15     20  ...      1      0   \n",
       "com.vivaldi.browser                0      0      0      0  ...      0      1   \n",
       "net.fast.web.browser               8     12      8      8  ...      0      0   \n",
       "\n",
       "Rank                           113.0  114.0  115.0  116.0  117.0  118.0  \\\n",
       "App ID                                                                    \n",
       "com.android.chrome                 0      0      0      0      0      0   \n",
       "com.brave.browser                  0      0      0      0      0      0   \n",
       "com.cloudmosa.puffinTV             0      0      0      0      0      0   \n",
       "com.duckduckgo.mobile.android      0      0      0      0      0      0   \n",
       "com.opera.browser                  0      0      0      0      0      0   \n",
       "com.transsion.phoenix              1      0      0      0      1      0   \n",
       "com.vivaldi.browser                0      1      2      2      1      2   \n",
       "net.fast.web.browser               0      0      0      0      0      0   \n",
       "\n",
       "Rank                           119.0  134.0  \n",
       "App ID                                       \n",
       "com.android.chrome                 0      0  \n",
       "com.brave.browser                  0      0  \n",
       "com.cloudmosa.puffinTV             0      0  \n",
       "com.duckduckgo.mobile.android      0      0  \n",
       "com.opera.browser                  0      0  \n",
       "com.transsion.phoenix              1      0  \n",
       "com.vivaldi.browser                0      1  \n",
       "net.fast.web.browser               0      0  \n",
       "\n",
       "[8 rows x 119 columns]"
      ]
     },
     "execution_count": 16,
     "metadata": {},
     "output_type": "execute_result"
    }
   ],
   "source": [
    "pd.crosstab(df['App ID'], df['Rank'])"
   ]
  },
  {
   "cell_type": "markdown",
   "id": "9607ed0a",
   "metadata": {},
   "source": [
    "we find out that there are only 8 app ids"
   ]
  },
  {
   "cell_type": "code",
   "execution_count": 18,
   "id": "429909e0",
   "metadata": {},
   "outputs": [
    {
     "data": {
      "text/plain": [
       "119"
      ]
     },
     "execution_count": 18,
     "metadata": {},
     "output_type": "execute_result"
    }
   ],
   "source": [
    "df[\"Rank\"].nunique()"
   ]
  },
  {
   "cell_type": "code",
   "execution_count": 19,
   "id": "f786babd",
   "metadata": {},
   "outputs": [
    {
     "name": "stderr",
     "output_type": "stream",
     "text": [
      "C:\\Users\\HP\\anaconda3\\lib\\site-packages\\seaborn\\_decorators.py:36: FutureWarning: Pass the following variable as a keyword arg: x. From version 0.12, the only valid positional argument will be `data`, and passing other arguments without an explicit keyword will result in an error or misinterpretation.\n",
      "  warnings.warn(\n"
     ]
    },
    {
     "data": {
      "text/plain": [
       "Text(0.5, 1.0, 'Top 20 Rank Wise Count \\n')"
      ]
     },
     "execution_count": 19,
     "metadata": {},
     "output_type": "execute_result"
    },
    {
     "data": {
      "image/png": "[encoded data removed]",
      "text/plain": [
       "<Figure size 1800x1080 with 1 Axes>"
      ]
     },
     "metadata": {
      "needs_background": "light"
     },
     "output_type": "display_data"
    }
   ],
   "source": [
    "ItemCount = df[\"Rank\"].value_counts().nlargest(20)\n",
    "plt.figure(figsize=(25,15))\n",
    "sns.countplot(df['Rank'],order = df['Rank'].value_counts().nlargest(20).index)\n",
    "plt.title('Top 20 Rank Wise Count \\n')"
   ]
  },
  {
   "cell_type": "code",
   "execution_count": 20,
   "id": "e7ab11b9",
   "metadata": {},
   "outputs": [
    {
     "name": "stdout",
     "output_type": "stream",
     "text": [
      "chisquare value:6067.446466498302\n",
      "p value:0.0\n"
     ]
    }
   ],
   "source": [
    "ct = pd.crosstab(df['App ID'], df['Rank'])\n",
    "stat,p,dof,expected=stats.chi2_contingency(ct)\n",
    "print(f'chisquare value:{stat}')\n",
    "print(f'p value:{p}')"
   ]
  },
  {
   "cell_type": "markdown",
   "id": "69be2ba7",
   "metadata": {},
   "source": [
    "# so APP ID and Rank are co related"
   ]
  },
  {
   "cell_type": "markdown",
   "id": "f3abcf66",
   "metadata": {},
   "source": [
    "# Any other pattern or good questions that you can think of and answer?"
   ]
  },
  {
   "cell_type": "markdown",
   "id": "515ce5ec",
   "metadata": {},
   "source": [
    "# do ID column and rank co related"
   ]
  },
  {
   "cell_type": "markdown",
   "id": "51c57223",
   "metadata": {},
   "source": [
    "# no from co relation matrix it is clear that ID and rank are not co related"
   ]
  },
  {
   "cell_type": "markdown",
   "id": "90385a6a",
   "metadata": {},
   "source": [
    "# but ID has no Feature Importance so we can drop id"
   ]
  },
  {
   "cell_type": "code",
   "execution_count": 22,
   "id": "873b51c9",
   "metadata": {},
   "outputs": [],
   "source": [
    "df=df.drop(['ID'],axis=1)"
   ]
  },
  {
   "cell_type": "code",
   "execution_count": null,
   "id": "b5080b0a",
   "metadata": {},
   "outputs": [],
   "source": []
  }
 ],
 "metadata": {
  "kernelspec": {
   "display_name": "Python 3",
   "language": "python",
   "name": "python3"
  },
  "language_info": {
   "codemirror_mode": {
    "name": "ipython",
    "version": 3
   },
   "file_extension": ".py",
   "mimetype": "text/x-python",
   "name": "python",
   "nbconvert_exporter": "python",
   "pygments_lexer": "ipython3",
   "version": "3.8.8"
  }
 },
 "nbformat": 4,
 "nbformat_minor": 5
}
